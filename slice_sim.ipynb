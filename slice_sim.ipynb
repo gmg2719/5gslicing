{
  "nbformat": 4,
  "nbformat_minor": 0,
  "metadata": {
    "colab": {
      "name": "slice-sim.ipynb",
      "provenance": [],
      "collapsed_sections": [],
      "toc_visible": true,
      "authorship_tag": "ABX9TyONQ/CQfpKIUL46CkxMLds3",
      "include_colab_link": true
    },
    "kernelspec": {
      "name": "python3",
      "display_name": "Python 3"
    }
  },
  "cells": [
    {
      "cell_type": "markdown",
      "metadata": {
        "id": "view-in-github",
        "colab_type": "text"
      },
      "source": [
        "<a href=\"https://colab.research.google.com/github/victorcionca/5gslicing/blob/main/slice_sim.ipynb\" target=\"_parent\"><img src=\"https://colab.research.google.com/assets/colab-badge.svg\" alt=\"Open In Colab\"/></a>"
      ]
    },
    {
      "cell_type": "markdown",
      "metadata": {
        "id": "rcoiwQHsF8m3"
      },
      "source": [
        "# 5G infrastructure simulator\n",
        "\n",
        "Simulates the RAN and TN of a 5G infrastructure, including data centres for hosting NFs of the core, and the MEC."
      ]
    },
    {
      "cell_type": "markdown",
      "metadata": {
        "id": "WHlnjUqjGUYC"
      },
      "source": [
        "## Related work\n",
        "\n",
        "Understanding QoS Applicability in 5G Transport Networks\n",
        "Cominardi et al, IEEE BMSB 2018\n",
        "\n",
        "5GEN: A tool to generate 5G infrastructure graphs\n",
        "Martin-Perez et al, IEEE CSCN 2019\n",
        "\n",
        "Modeling MEC deployments for low latency multimedia services\n",
        "Martin-Perez et al, IEEE T Broadcasting 2019"
      ]
    },
    {
      "cell_type": "markdown",
      "metadata": {
        "id": "oAAnCXzSGhJD"
      },
      "source": [
        "# Algorithm\n",
        "\n",
        "* simulate a demographic\n",
        "  * a mixture of high and regular density urban and rural regions\n",
        "* deploy RUs in each area cell based on 3GPP TR 38.913 coverage recommendations\n",
        "  * dense urban: ISD 200m\n",
        "  * urban: ISD 500m\n",
        "  * rural: ISD 1700m\n",
        "* UE density is obtained from NGMN 5G white paper\n",
        "  * dense urban is 2500/km2\n",
        "  * sub-urban 50+ everywhere is 400/km2\n",
        "  * rural 50+ everywhere is 100/km2"
      ]
    },
    {
      "cell_type": "code",
      "metadata": {
        "id": "TQbMNo8CHSQO"
      },
      "source": [
        "# Algorithm configuration\n",
        "config = {\n",
        "    'area_width': 50, # in kms\n",
        "    'area_cell_width': 0.1, # Width of an area cell; not to be confused with radio cell\n",
        "    'pdf_centre': (25,25), # Centre of the density function, in kilometres\n",
        "    'pdf_width': 5, # Width (stddev) of density function, in kilometres\n",
        "    'high_density': 0.6, # Ratio of population living in highly dense urban\n",
        "    'urban': 0.39, # Ratio of population living in regular urban area\n",
        "    'rural': 0.01, # Ratio of population living in rural area\n",
        "    'isd_high': 0.2, # 200m high density ISD, per 3GPP\n",
        "    'isd_urban': 0.5,\n",
        "    'isd_rural': 1.7,\n",
        "    'ue_density_high': 2500, # UEs per km2 in dense areas\n",
        "    'ue_density_med': 400, # urban areas\n",
        "    'ue_density_low': 100, # rural areas\n",
        "}"
      ],
      "execution_count": 1,
      "outputs": []
    },
    {
      "cell_type": "markdown",
      "metadata": {
        "id": "YKDvK25LG0Uh"
      },
      "source": [
        "## Demographic\n",
        "\n",
        "The demographic is simulated by creating a large region and defining a 2D density function on top of it.\n",
        "\n",
        "Options to consider\n",
        "* allow the overlaying of several density functions to create more diverse scenarios"
      ]
    },
    {
      "cell_type": "code",
      "metadata": {
        "id": "m4CaFWEHF2BF"
      },
      "source": [
        "import numpy as np\n",
        "import matplotlib.pyplot as plt\n",
        "from scipy.stats import norm\n",
        "from scipy.special import erf"
      ],
      "execution_count": 2,
      "outputs": []
    },
    {
      "cell_type": "code",
      "metadata": {
        "id": "NBHzHryEHNIh"
      },
      "source": [
        "# The value of each cell will be the PDF at the distance from the PDF centre\n",
        "def dist_from_pdf_centre(cell_idx, num_cells):\n",
        "  \"\"\"Returns the distance (kms) from x,y to the PDF centre (in config)\"\"\"\n",
        "  cell_col = cell_idx % np.sqrt(num_cells)\n",
        "  cell_row = cell_idx // np.sqrt(num_cells)\n",
        "  cell_x = 0.5*(2*cell_col+1)*config['area_cell_width']\n",
        "  cell_y = 0.5*(2*cell_row+1)*config['area_cell_width']\n",
        "  c_x, c_y = config['pdf_centre']\n",
        "  return np.sqrt((c_x-cell_x)**2 + (c_y-cell_y)**2)"
      ],
      "execution_count": 3,
      "outputs": []
    },
    {
      "cell_type": "code",
      "metadata": {
        "id": "FgsCD7mA3tjo"
      },
      "source": [
        "def generate_demographic():\n",
        "  \"\"\"\n",
        "  Generate a deployment area made up of cells of configured width.\n",
        "  Each cell will be configured with a population density, one of three \n",
        "  values: high density (3), common urban (2), rural (1).\n",
        "\n",
        "  ### Returns:\n",
        "  \n",
        "  matrix with each cell containing its index\n",
        "  matrix with each cell containing the population density\n",
        "  \"\"\"\n",
        "  # Define the area as a matrix of cells of configured width\n",
        "  row_cells = int(np.ceil(config['area_width']/config['area_cell_width']))\n",
        "  # Need to round up to next square\n",
        "  num_cells = int(row_cells**2)\n",
        "  area_cells = np.array(range(num_cells))\n",
        "  area_cells = area_cells.reshape(row_cells, row_cells)\n",
        "  # Compute the PDF for each cell, based on its distance from the centre\n",
        "  pdfs = norm.pdf(dist_from_pdf_centre(area_cells, num_cells), 0, config['pdf_width'])\n",
        "  # Compute the thresholds for population density, based on Quantile function\n",
        "  # --> P(population density > Threshold) is CDF(x) = Threshold\n",
        "  # --> we want the threshold so CDF-1(x) which is quantile function\n",
        "  ppf_high = norm.ppf(config['high_density'], 0, config['pdf_width'])\n",
        "  ppf_urban = abs(norm.ppf(config['high_density'] + config['urban'],\n",
        "                              0, config['pdf_width']))\n",
        "  # Then convert those values into PDFs\n",
        "  thresh_high = norm.pdf(ppf_high, 0, config['pdf_width'])\n",
        "  thresh_urban = norm.pdf(ppf_urban, 0, config['pdf_width'])\n",
        "  # Discretize the PDF based on the thresholds\n",
        "  pdfs[pdfs >= thresh_high] = 3\n",
        "  pdfs[(pdfs >= thresh_urban) & (pdfs < 1)] = 2\n",
        "  pdfs[pdfs < thresh_urban] = 1\n",
        "  return area_cells, pdfs"
      ],
      "execution_count": 4,
      "outputs": []
    },
    {
      "cell_type": "code",
      "metadata": {
        "id": "oftUtmO9IyAh"
      },
      "source": [
        "area_cells, pdfs = generate_demographic()"
      ],
      "execution_count": 5,
      "outputs": []
    },
    {
      "cell_type": "code",
      "metadata": {
        "colab": {
          "base_uri": "https://localhost:8080/",
          "height": 286
        },
        "id": "ivzZBz1i2qBr",
        "outputId": "d54e648a-31c8-4552-dd71-57f890c659c0"
      },
      "source": [
        "plt.imshow(pdfs, cmap='gray', interpolation='None')\n",
        "plt.colorbar()"
      ],
      "execution_count": 6,
      "outputs": [
        {
          "output_type": "execute_result",
          "data": {
            "text/plain": [
              "<matplotlib.colorbar.Colorbar at 0x7f8441e487b8>"
            ]
          },
          "metadata": {
            "tags": []
          },
          "execution_count": 6
        },
        {
          "output_type": "display_data",
          "data": {
            "image/png": "[encoded data removed]",
            "text/plain": [
              "<Figure size 432x288 with 2 Axes>"
            ]
          },
          "metadata": {
            "tags": [],
            "needs_background": "light"
          }
        }
      ]
    },
    {
      "cell_type": "markdown",
      "metadata": {
        "id": "L9Bbb2G3DsK7"
      },
      "source": [
        "## RU deployment\n",
        "\n",
        "* perform the deployment incrementally, as follows, assuming that the population\n",
        "density increases gradually\n",
        "* first deploy RUs in the cells with density >= rural, following the rural ISD\n",
        "* then clear the urban areas, and deploy following the urban ISD in cells with density >= urban\n",
        "* repeat for high density."
      ]
    },
    {
      "cell_type": "code",
      "metadata": {
        "id": "A2GPvEqRlSXd"
      },
      "source": [
        "def deploy_rus(area_cells, pdfs):\n",
        "  \"\"\"\n",
        "  Deploys RUs based on the ISD defined in the configuration.\n",
        "  Returns a matrix of same shape as area cells where each element represents\n",
        "  an area cell and is 1 if an RU is deployed, otherwise 0.\n",
        "  \"\"\"\n",
        "  ru_cells = np.zeros_like(area_cells)\n",
        "  # Deploy in cells >= rural with rural ISD\n",
        "  isd_rural_cells = int(config['isd_rural']/config['area_cell_width'])\n",
        "  ru_cells[0:len(area_cells):isd_rural_cells,\n",
        "         np.arange(0,len(area_cells), isd_rural_cells),] = 1\n",
        "  # Clear the urban areas and higher\n",
        "  ru_cells[pdfs >= 2] = 0\n",
        "  # Deploy\n",
        "  isd_urban_cells = int(config['isd_urban']/config['area_cell_width'])\n",
        "  tmp_urban_base = pdfs >= 2\n",
        "  tmp_urban_cells = np.zeros_like(area_cells)\n",
        "  tmp_urban_cells[0:len(area_cells):isd_urban_cells, np.arange(0, len(area_cells), isd_urban_cells)] = 1\n",
        "  ru_cells[np.array((tmp_urban_base & tmp_urban_cells), dtype=np.bool)] = 1\n",
        "  # Clear the high density areas\n",
        "  ru_cells[pdfs == 3] = 0\n",
        "  # Deploy\n",
        "  isd_high_cells = int(config['isd_high']/config['area_cell_width'])\n",
        "  tmp_high_base = pdfs == 3\n",
        "  tmp_high_cells = np.zeros_like(area_cells)\n",
        "  tmp_high_cells[0:len(area_cells):isd_high_cells, np.arange(0, len(area_cells), isd_high_cells)] = 1\n",
        "  ru_cells[np.array((tmp_high_base & tmp_high_cells), dtype=np.bool)] = 1\n",
        "  return ru_cells"
      ],
      "execution_count": 7,
      "outputs": []
    },
    {
      "cell_type": "code",
      "metadata": {
        "id": "ZT9u9UjPlulp"
      },
      "source": [
        "ru_cells = deploy_rus(area_cells, pdfs)"
      ],
      "execution_count": 8,
      "outputs": []
    },
    {
      "cell_type": "code",
      "metadata": {
        "colab": {
          "base_uri": "https://localhost:8080/",
          "height": 340
        },
        "id": "ON3P_ogTIwY8",
        "outputId": "4a37eedf-35ae-496b-825f-c9031e9907d7"
      },
      "source": [
        "plt.figure(figsize=(5,5))\n",
        "plt.imshow(ru_cells, interpolation='None')"
      ],
      "execution_count": 9,
      "outputs": [
        {
          "output_type": "execute_result",
          "data": {
            "text/plain": [
              "<matplotlib.image.AxesImage at 0x7f84419405c0>"
            ]
          },
          "metadata": {
            "tags": []
          },
          "execution_count": 9
        },
        {
          "output_type": "display_data",
          "data": {
            "image/png": "[encoded data removed]",
            "text/plain": [
              "<Figure size 360x360 with 1 Axes>"
            ]
          },
          "metadata": {
            "tags": [],
            "needs_background": "light"
          }
        }
      ]
    },
    {
      "cell_type": "markdown",
      "metadata": {
        "id": "TTk_MVKbODad"
      },
      "source": [
        "# Transport network"
      ]
    },
    {
      "cell_type": "markdown",
      "metadata": {
        "id": "SZYf7zgOOHVX"
      },
      "source": [
        "## Cell traffic\n",
        "\n",
        "To be able to determine multiplexing gains we need a model of the data rate distribution per cell.\n",
        "We derive this using a \"User Traffic Mix\" model that contains a combination of\n",
        "* web browsing\n",
        "* file transfer\n",
        "* video streaming\n",
        "* VoIP\n",
        "* online gaming."
      ]
    },
    {
      "cell_type": "markdown",
      "metadata": {
        "id": "ApJfk4jEOjzZ"
      },
      "source": [
        "### Web browsing traffic model\n",
        "\n",
        "Based on Qi et al, \"Quantifying Data Rate and Bandwidth Requirements for Immersive 5G Experience\", IEEE ICC2016 Workshops W09.\n"
      ]
    },
    {
      "cell_type": "code",
      "metadata": {
        "id": "L36VuYX3PTsb"
      },
      "source": [
        "a_up = 2*2**20\n",
        "a_low = 100\n",
        "sigma = 1.37\n",
        "mu = 8.35\n",
        "T_wb = 30\n",
        "K = 1/(np.sqrt(2*np.pi)*T_wb*sigma\\\n",
        "      *(norm.cdf((np.log(a_up) - mu)/sigma) - norm.cdf((np.log(a_low) - mu)/sigma)))\n",
        "\n",
        "def mu_bar(r):\n",
        "  return mu/r - sigma**2/(T_wb*r**2)\n",
        "\n",
        "def sigma_bar(r):\n",
        "  return sigma/r\n",
        "\n",
        "def K_bar(r):\n",
        "  return np.sqrt(2*np.pi)*sigma_bar(r)*K\\\n",
        "          *np.exp(- ( (mu/r)**2 - ( (T_wb*r*mu-sigma**2) / (T_wb*r**2) )**2) / (2*(sigma/r)**2))\n",
        "\n",
        "def web_a(r):\n",
        "  return (np.log(a_up)/r - mu_bar(r))/sigma_bar(r)\n",
        "\n",
        "def web_b(r):\n",
        "  return (np.log(a_low)/r - mu_bar(r))/sigma_bar(r)\n",
        "\n",
        "def web_data_rate_pdf(r):\n",
        "  inner_top = (norm.pdf(web_a(r))-norm.pdf(web_b(r)))\n",
        "  inner_bot = (norm.cdf(web_a(r))-norm.cdf(web_b(r)))\n",
        "  return K_bar(r)*(mu_bar(r) + sigma_bar(r)*(inner_top/inner_bot))"
      ],
      "execution_count": 10,
      "outputs": []
    },
    {
      "cell_type": "code",
      "metadata": {
        "colab": {
          "base_uri": "https://localhost:8080/",
          "height": 296
        },
        "id": "j-z45ieCV3ng",
        "outputId": "db388f64-0c9e-4448-d309-ca4866d646ed"
      },
      "source": [
        "web_rate = np.linspace(0.01,5, 1000)\n",
        "_=plt.plot(web_rate, web_data_rate_pdf(web_rate))\n",
        "#_=x_ticks = [0,0.01,0.02,0.03,0.04,0.05]\n",
        "#_=plt.xticks([r*(2**20)/8 for r in x_ticks], x_ticks)\n",
        "plt.xlabel('User data rate (Mbps)')\n",
        "plt.ylabel('PDF')"
      ],
      "execution_count": 11,
      "outputs": [
        {
          "output_type": "execute_result",
          "data": {
            "text/plain": [
              "Text(0, 0.5, 'PDF')"
            ]
          },
          "metadata": {
            "tags": []
          },
          "execution_count": 11
        },
        {
          "output_type": "display_data",
          "data": {
            "image/png": "[encoded data removed]",
            "text/plain": [
              "<Figure size 432x288 with 1 Axes>"
            ]
          },
          "metadata": {
            "tags": [],
            "needs_background": "light"
          }
        }
      ]
    },
    {
      "cell_type": "markdown",
      "metadata": {
        "id": "V5TBq1LVitLj"
      },
      "source": [
        "#### MC simulation of the same"
      ]
    },
    {
      "cell_type": "code",
      "metadata": {
        "id": "HiMlF_l1RDYG"
      },
      "source": [
        "from scipy.stats import lognorm"
      ],
      "execution_count": 12,
      "outputs": []
    },
    {
      "cell_type": "code",
      "metadata": {
        "id": "tiUGaS9WNxNw"
      },
      "source": [
        "def lognormal_pdf(x, sigma, mu):\n",
        "  return 1/(np.sqrt(2*np.pi)*sigma*x)*np.exp(-((np.log(x)-mu)**2)/(2*sigma**2))\n",
        "\n",
        "def lognormal_cdf(x, sigma, mu):\n",
        "  return 0.5+0.5*erf((np.log(x)-mu)/(np.sqrt(2)*sigma))\n",
        "  \n",
        "def trunc_lognormal_pdf(x, a, b, sigma, mu):\n",
        "  top = lognormal_pdf(x, sigma, mu)\n",
        "  bot = norm.cdf((np.log(b)-mu)/sigma) - norm.cdf((np.log(a)-mu)/sigma)\n",
        "  return top/bot"
      ],
      "execution_count": 13,
      "outputs": []
    },
    {
      "cell_type": "code",
      "metadata": {
        "id": "ti0gZQBOn643"
      },
      "source": [
        "# Truncated log-normal sampling\n",
        "def trunc_lognormal_sample(a,b,mu,sigma):\n",
        "  lncdf_a = lognormal_cdf(a,sigma,mu)\n",
        "  lncdf_b = lognormal_cdf(b,sigma,mu)\n",
        "  cdf = (lncdf_b - lncdf_a)*np.random.random() + lncdf_a\n",
        "  ppf_norm = norm.ppf(cdf, mu, sigma)\n",
        "  return np.exp(ppf_norm)"
      ],
      "execution_count": 14,
      "outputs": []
    },
    {
      "cell_type": "code",
      "metadata": {
        "colab": {
          "base_uri": "https://localhost:8080/",
          "height": 282
        },
        "id": "f62L-DDYOJM-",
        "outputId": "8b589ba1-c7a9-4d47-a5b6-17fd21bd1294"
      },
      "source": [
        "x = np.linspace(100,10000,100)\n",
        "plt.plot(x, lognormal_pdf(x, 1.37, 8.37), label='untrunc')\n",
        "plt.plot(x, trunc_lognormal_pdf(x, 100, 2**20, 25032, 10710), label='trunc')\n",
        "plt.legend()"
      ],
      "execution_count": 15,
      "outputs": [
        {
          "output_type": "execute_result",
          "data": {
            "text/plain": [
              "<matplotlib.legend.Legend at 0x7f8441828278>"
            ]
          },
          "metadata": {
            "tags": []
          },
          "execution_count": 15
        },
        {
          "output_type": "display_data",
          "data": {
            "image/png": "[encoded data removed]",
            "text/plain": [
              "<Figure size 432x288 with 1 Axes>"
            ]
          },
          "metadata": {
            "tags": [],
            "needs_background": "light"
          }
        }
      ]
    },
    {
      "cell_type": "code",
      "metadata": {
        "colab": {
          "base_uri": "https://localhost:8080/"
        },
        "id": "ue3nNDGqtEpX",
        "outputId": "50c75a3b-9e18-44c5-9f32-869e5fd33de0"
      },
      "source": [
        "trunc_lognormal_sample(100, 2**20, 25032, 10710)"
      ],
      "execution_count": 16,
      "outputs": [
        {
          "output_type": "execute_result",
          "data": {
            "text/plain": [
              "152391.6829157939"
            ]
          },
          "metadata": {
            "tags": []
          },
          "execution_count": 16
        }
      ]
    },
    {
      "cell_type": "code",
      "metadata": {
        "id": "X9cnVd7MivvL"
      },
      "source": [
        "from scipy.stats import expon\n",
        "\n",
        "web_data_rates = []\n",
        "for i in range(int(1e6)):\n",
        "  # Draw a packet size from lognormal distr\n",
        "  pkt_size = trunc_lognormal_sample(100, 2*2**20, 25032, 10710)\n",
        "  # Draw a waiting time\n",
        "  wait_time = expon.rvs(30)\n",
        "  web_data_rates.append(pkt_size/wait_time)"
      ],
      "execution_count": 17,
      "outputs": []
    },
    {
      "cell_type": "code",
      "metadata": {
        "colab": {
          "base_uri": "https://localhost:8080/",
          "height": 296
        },
        "id": "HGKdpkPvlZYz",
        "outputId": "f263fe26-f150-47ed-9e73-003b53b55751"
      },
      "source": [
        "_=plt.hist(web_data_rates, bins=100)\n",
        "plt.xlabel('Data rate (Bps)')"
      ],
      "execution_count": 18,
      "outputs": [
        {
          "output_type": "execute_result",
          "data": {
            "text/plain": [
              "Text(0.5, 0, 'Data rate (Bps)')"
            ]
          },
          "metadata": {
            "tags": []
          },
          "execution_count": 18
        },
        {
          "output_type": "display_data",
          "data": {
            "image/png": "[encoded data removed]",
            "text/plain": [
              "<Figure size 432x288 with 1 Axes>"
            ]
          },
          "metadata": {
            "tags": [],
            "needs_background": "light"
          }
        }
      ]
    },
    {
      "cell_type": "markdown",
      "metadata": {
        "id": "Ikh-AaP4ldJz"
      },
      "source": [
        "### File transfer traffic\n",
        "\n",
        "Take the NGMN model, where\n",
        "* the file size is a truncated log-normal distribution with mean = 2MB, Stddev = 0.722MB, Max = 5MB\n",
        "* reading time is exponentially distributed with mean = 180s"
      ]
    },
    {
      "cell_type": "markdown",
      "metadata": {
        "id": "8hBNUQ3EWaX3"
      },
      "source": [
        "#### MC simulation"
      ]
    },
    {
      "cell_type": "code",
      "metadata": {
        "id": "epFSQoDYWgPN"
      },
      "source": [
        "ftp_data_rates = []\n",
        "for i in range(int(1e6)):\n",
        "  # Draw a packet size from lognormal distr\n",
        "  pkt_size = trunc_lognormal_sample(1, 5*2**20, 2**20*0.722, 2*2**20)\n",
        "  # Draw a waiting time\n",
        "  wait_time = expon.rvs(180)\n",
        "  ftp_data_rates.append(pkt_size/wait_time)"
      ],
      "execution_count": 19,
      "outputs": []
    },
    {
      "cell_type": "code",
      "metadata": {
        "colab": {
          "base_uri": "https://localhost:8080/",
          "height": 296
        },
        "id": "ykHfj2f8kouy",
        "outputId": "15c1fe27-0ab2-48f1-e956-07b782542dcf"
      },
      "source": [
        "_=plt.hist(ftp_data_rates, bins=100)\n",
        "plt.xlabel('Data rate (Bps)')"
      ],
      "execution_count": 20,
      "outputs": [
        {
          "output_type": "execute_result",
          "data": {
            "text/plain": [
              "Text(0.5, 0, 'Data rate (Bps)')"
            ]
          },
          "metadata": {
            "tags": []
          },
          "execution_count": 20
        },
        {
          "output_type": "display_data",
          "data": {
            "image/png": "[encoded data removed]",
            "text/plain": [
              "<Figure size 432x288 with 1 Axes>"
            ]
          },
          "metadata": {
            "tags": [],
            "needs_background": "light"
          }
        }
      ]
    },
    {
      "cell_type": "markdown",
      "metadata": {
        "id": "Uiwi6UWrnOy1"
      },
      "source": [
        "### Video streaming\n",
        "\n",
        "Frames are broken into packets that are Pareto distributed.\n",
        "\n",
        "The interval between frames is also Pareto distributed."
      ]
    },
    {
      "cell_type": "code",
      "metadata": {
        "id": "hw3qSEa9neqR"
      },
      "source": [
        "def trunc_pareto_pdf(x, lo, hi, alpha):\n",
        "  return alpha*lo**alpha*(x**(-alpha-1))/(1-(lo/hi)**alpha)\n",
        "\n",
        "def pareto_cdf(x, m, alpha):\n",
        "  return 1 - (m/x)**alpha\n",
        "\n",
        "def bounded_pareto_sample(lo, hi, alpha):\n",
        "  x = np.random.random()\n",
        "  return (-(x*hi**alpha-x*lo**alpha-hi**alpha)/(hi**alpha*lo**alpha))**(-1/alpha)"
      ],
      "execution_count": 21,
      "outputs": []
    },
    {
      "cell_type": "markdown",
      "metadata": {
        "id": "WiYtWmaznahh"
      },
      "source": [
        "#### MC simulation"
      ]
    },
    {
      "cell_type": "code",
      "metadata": {
        "id": "_a31YIJ2rAJx"
      },
      "source": [
        "min_vid_pkt = 560/8*2**10 # 560KBs #3.32*2**20  # 3.32 MB\n",
        "max_vid_pkt = 4.2/8*2**20 # 4.2MBs # 20.75*2**20 # 20.75 MB\n",
        "vid_data_rates = []\n",
        "for i in range(int(1e6)):\n",
        "  # Draw a packet size from lognormal distr\n",
        "  pkt_size = bounded_pareto_sample(min_vid_pkt, max_vid_pkt, 1.67)\n",
        "  # Draw a waiting time\n",
        "  wait_time = bounded_pareto_sample(0.832*1e-3, 5.2*1e-3, 1.67)\n",
        "  vid_data_rates.append(pkt_size/wait_time)"
      ],
      "execution_count": 54,
      "outputs": []
    },
    {
      "cell_type": "code",
      "metadata": {
        "colab": {
          "base_uri": "https://localhost:8080/",
          "height": 285
        },
        "id": "YVeiL41qrfJ9",
        "outputId": "79667b22-5db4-4761-98c1-09d55710c325"
      },
      "source": [
        "_=plt.hist(vid_data_rates, bins=100)\n",
        "plt.xlabel('Data rate (Bps)')\n",
        "plt.yscale('log')"
      ],
      "execution_count": 55,
      "outputs": [
        {
          "output_type": "display_data",
          "data": {
            "image/png": "[encoded data removed]",
            "text/plain": [
              "<Figure size 432x288 with 1 Axes>"
            ]
          },
          "metadata": {
            "tags": [],
            "needs_background": "light"
          }
        }
      ]
    },
    {
      "cell_type": "markdown",
      "metadata": {
        "id": "bM6UKsIGFbCT"
      },
      "source": [
        "The METIS model for Non Real Time Video Traffic is as FTP traffic with 50Mbps rate and 30fps.\n",
        "\n",
        "This amounts to 1.66Mb file size and 0.033s mean reading time."
      ]
    },
    {
      "cell_type": "code",
      "metadata": {
        "id": "0YwJqUtOFZh8"
      },
      "source": [
        "vid_data_rates_metis = []\n",
        "pkt_size = 1.66*2**20 # MB per second\n",
        "mean_reading_time = 0.033 # 33ms mean reading time\n",
        "for i in range(int(1e6)):\n",
        "  # Draw a waiting time\n",
        "  wait_time = expon.rvs(mean_reading_time)\n",
        "  vid_data_rates_metis.append(pkt_size/wait_time)"
      ],
      "execution_count": 60,
      "outputs": []
    },
    {
      "cell_type": "code",
      "metadata": {
        "colab": {
          "base_uri": "https://localhost:8080/",
          "height": 279
        },
        "id": "LJaNq2HmFZiF",
        "outputId": "66c8dd5b-dd2b-4119-bbef-223b68602622"
      },
      "source": [
        "_=plt.hist(vid_data_rates_metis, bins=100)\n",
        "plt.xlabel('Data rate (Bps)')\n",
        "plt.yscale('log')"
      ],
      "execution_count": 61,
      "outputs": [
        {
          "output_type": "display_data",
          "data": {
            "image/png": "[encoded data removed]",
            "text/plain": [
              "<Figure size 432x288 with 1 Axes>"
            ]
          },
          "metadata": {
            "tags": [],
            "needs_background": "light"
          }
        }
      ]
    },
    {
      "cell_type": "markdown",
      "metadata": {
        "id": "HF95k3ZDvodY"
      },
      "source": [
        "### Mixing traffic\n",
        "\n",
        "* take the UE density brackets from NGMN:\n",
        "  * dense urban 2500UE/km2\n",
        "  * suburban 400UE/km2\n",
        "  * rural 100UE/km2\n"
      ]
    },
    {
      "cell_type": "markdown",
      "metadata": {
        "id": "i2mZ4gbrX3i8"
      },
      "source": [
        "#### Load estimation\n",
        "\n",
        "A user places a certain demand on the network from the application level. This is modelled with one of the traffic models in the previous sections.\n",
        "\n",
        "At the same time, based on the signal quality experienced by the user (which depends on the location of the user in the network and the path loss model) the BS will allocate an MCS, which will determine the maximum data rate attainable.\n",
        "\n",
        "Therefore the user load will be the minimum between the application traffic model and the maximum data rate usable.\n",
        "* we don't consider scheduling of resources; we cap the maximum usage over all users to the BS capacity.\n",
        "\n",
        "In the following we determine the maximum data rate attainable by the UE starting from the ue-bs distance and employing a path loss model, and a mapping between SINR and MCS. We further assume there is no interference."
      ]
    },
    {
      "cell_type": "code",
      "metadata": {
        "id": "a1o4Iw9i2nI1"
      },
      "source": [
        "def path_loss_old(ue_dist):\n",
        "  \"\"\"\n",
        "  Computes the path loss at the given distance (km).\n",
        "  Based on 36.492\n",
        "  \"\"\"\n",
        "  return 40*(1-4e-3*bs_height)*np.log10(ue_dist)\\\n",
        "          -18*np.log10(bs_height)+21*np.log10(carrier_f)+80"
      ],
      "execution_count": 24,
      "outputs": []
    },
    {
      "cell_type": "code",
      "metadata": {
        "id": "tQuNp70bO313"
      },
      "source": [
        "def path_loss_5g(ue_dist):\n",
        "  \"\"\"\n",
        "  Based on Haneda et al 5G 3gpp-like channel models... VTC 2016\n",
        "  The CI (Close-In) model.\n",
        "  \"\"\"\n",
        "  # Calculate the probability of LoS\n",
        "  p_los = np.minimum(18/ue_dist,1)*(1-np.exp(-ue_dist/63)+np.exp(-ue_dist/63))\n",
        "  # Parameters of CI-model\n",
        "  n = np.zeros_like(p_los)\n",
        "  SF = np.zeros_like(p_los)\n",
        "  # Path loss exp\n",
        "  n[p_los >= 0.5] = 2.0 # High prob of LoS\n",
        "  n[p_los < 0.5] = 3.0\n",
        "  # Shadow-fading stddev\n",
        "  SF[p_los >= 0.5] = 4.1 # High prob of LoS\n",
        "  SF[p_los < 0.5] = 6.8\n",
        "  fspl1m = 20*np.log10(4*np.pi*3.8*1e9/299792458)\n",
        "  shadow = norm.rvs(scale=SF)\n",
        "  return fspl1m + 10*n*np.log10(ue_dist) + shadow"
      ],
      "execution_count": 25,
      "outputs": []
    },
    {
      "cell_type": "code",
      "metadata": {
        "colab": {
          "base_uri": "https://localhost:8080/",
          "height": 295
        },
        "id": "iGx7zNm-OjTB",
        "outputId": "6db9e35c-80ae-4fba-a86f-2fbb739ce9cc"
      },
      "source": [
        "ue_dist = np.linspace(0.1,500,500)\n",
        "plt.plot(ue_dist, path_loss_5g(ue_dist), '.')\n",
        "plt.xlabel('Distance')\n",
        "plt.ylabel('Path loss (dBm)')\n",
        "_=plt.title('Path loss = f(dist). 3GPP Close In model with LoS prob model')"
      ],
      "execution_count": 26,
      "outputs": [
        {
          "output_type": "display_data",
          "data": {
            "image/png": "[encoded data removed]",
            "text/plain": [
              "<Figure size 432x288 with 1 Axes>"
            ]
          },
          "metadata": {
            "tags": [],
            "needs_background": "light"
          }
        }
      ]
    },
    {
      "cell_type": "code",
      "metadata": {
        "id": "whurDn-fQPXB"
      },
      "source": [
        "# The following map of SINR to MCS from\n",
        "#     Ramos et al, \"Mapping between...\", WPMC 2019\n",
        "sinr_mcs_map = [\n",
        "    -4.63,-3.615,-2.6,-1.36,-0.12,1.17,2.26,3.595,\n",
        "    4.73,6.13,7.53,8.1,8.67,9.995,11.32,12.78,14.24,14.725,15.21,16.92,18.3,\n",
        "    19.975,21.32,22.395,23.47,25.98,28.49,31.545,34.6\n",
        "]"
      ],
      "execution_count": 27,
      "outputs": []
    },
    {
      "cell_type": "code",
      "metadata": {
        "id": "hiWEiSrXU4jC"
      },
      "source": [
        "def get_mcs_index(sinr):\n",
        "  \"\"\"Returns the MCS index that is supported at the given SINR\"\"\"\n",
        "  mcs = 0\n",
        "  for s in sinr_mcs_map[1:]:\n",
        "    if sinr < s: return mcs\n",
        "    mcs += 1\n",
        "  return len(sinr_mcs_map)-1"
      ],
      "execution_count": 28,
      "outputs": []
    },
    {
      "cell_type": "code",
      "metadata": {
        "id": "AqebftfTSxiK"
      },
      "source": [
        "# Table 5.1.3.1-1 from 38.214\n",
        "# Modulation order and target code rate x1024 for mcs index \n",
        "mcs_index_tbl = [\n",
        "    (2,120),(2,157),(2,193),(2,251),(2,308),(2,379),(2,449),(2,526),(2,602),(2,679),\n",
        "    (4,340),(4,378),(4,434),(4,490),(4,553),(4,616),(4,658),(6,438),(6,466),(6,517),\n",
        "    (6,567),(6,616),(6,666),(6,719),(6,772),(6,822),(6,873),(6,910),(6,948)\n",
        "]"
      ],
      "execution_count": 29,
      "outputs": []
    },
    {
      "cell_type": "code",
      "metadata": {
        "id": "_w1JfWYf3QiS"
      },
      "source": [
        "def data_rate(mod_ord, code_rate):\n",
        "  \"\"\"\n",
        "  Estimates data rate for given modulation order and code rate\n",
        "  Based on 5G xhaul D21\n",
        "  \"\"\"\n",
        "  return np.log2(mod_ord)*code_rate\\\n",
        "          *1.33\\\n",
        "          *1e3\\\n",
        "          *14\\\n",
        "          *5*1200\\\n",
        "          *8"
      ],
      "execution_count": 30,
      "outputs": []
    },
    {
      "cell_type": "code",
      "metadata": {
        "id": "tOV5NGcuHtoZ"
      },
      "source": [
        "def data_rate_5g(mod_ord, code_rate):\n",
        "  \"\"\"\n",
        "  5G NR UE data rate, based on 38.306 4.1.2\n",
        "  Assuming no carrier aggregation, 100MHz channel, 4 MIMO layers.\n",
        "  \"\"\"\n",
        "  mu = 2 # Use FR1 (<6GHz), BW 100MHz so numerology (mu) = 2 (60KHz SCS)\n",
        "  Tu = 1e-3/(14*2**mu) # average OFDM symbol duration\n",
        "  N_prb = 132 # Based on 38.101-2 table 5.3.2-1\n",
        "  oh = 0.14 # Overhead for FR1 DL\n",
        "  layers = 4 # MIMO\n",
        "  return 1e-6*layers*mod_ord*(code_rate/1024)*N_prb*12*(1-oh)/Tu"
      ],
      "execution_count": 31,
      "outputs": []
    },
    {
      "cell_type": "code",
      "metadata": {
        "id": "YIbJJaabarhU"
      },
      "source": [
        "def get_ue_data_rate(dist):\n",
        "  \"\"\"\n",
        "  Determine the maximum data rate to be expected at the given distance.\n",
        "\n",
        "  First calculates the SINR using the path loss model, assuming \n",
        "  BS EIRP of 60dBm and UE EIRP of 40dBm (so 100dBm total gain).\n",
        "  Then determines the MCS index from the SINR, and computes the data rate.\n",
        "  \"\"\"\n",
        "  sinr = 100 - path_loss_5g(dist)\n",
        "  if isinstance(dist, np.ndarray):\n",
        "    return [data_rate_5g(*mcs_index_tbl[get_mcs_index(s)]) for s in sinr]\n",
        "  else:\n",
        "    return data_rate_5g(*mcs_index_tbl[get_mcs_index(sinr)])"
      ],
      "execution_count": 32,
      "outputs": []
    },
    {
      "cell_type": "code",
      "metadata": {
        "colab": {
          "base_uri": "https://localhost:8080/",
          "height": 295
        },
        "id": "wpmA3_pVbmVE",
        "outputId": "fd3c8631-58ac-4562-c43d-a5c91b6f612b"
      },
      "source": [
        "plt.plot(ue_dist, get_ue_data_rate(ue_dist), '.')\n",
        "plt.xlabel('Distance (m)')\n",
        "plt.ylabel('Data rate (Mbps)')\n",
        "_= plt.title('Data rate = f(dist) simulation')"
      ],
      "execution_count": 33,
      "outputs": [
        {
          "output_type": "display_data",
          "data": {
            "image/png": "[encoded data removed]",
            "text/plain": [
              "<Figure size 432x288 with 1 Axes>"
            ]
          },
          "metadata": {
            "tags": [],
            "needs_background": "light"
          }
        }
      ]
    },
    {
      "cell_type": "markdown",
      "metadata": {
        "id": "EK-zr2G6xxLl"
      },
      "source": [
        "#### Total cell load estimation\n",
        "\n",
        "MC simulation of the traffic load\n",
        "* select users (positions) from a cell\n",
        "* for each, sample an application type out of the three\n",
        "* sample a traffic demand from the application traffic model\n",
        "* determine for the user's position the distance relative to the antenna\n",
        "* determine the maximum data rate attainable\n",
        "* add to the total load the min between max att and user demand."
      ]
    },
    {
      "cell_type": "code",
      "metadata": {
        "id": "iZlSyifax1z7"
      },
      "source": [
        "from scipy.stats import poisson\n",
        "\n",
        "# Sample user positions.\n",
        "# From a Poisson Point Process on the circle with radius of the cell\n",
        "def sample_users(user_density, cell_radius):\n",
        "  \"\"\"\n",
        "  Creates a generator of user positions from a Poisson Point Process with\n",
        "  lambda set to user_density.\n",
        "  Returns the distance from the cell centre\n",
        "  \"\"\"\n",
        "  lbda = np.pi*cell_radius**2*user_density\n",
        "  num_users = poisson.rvs(lbda)\n",
        "  for i in range(num_users):\n",
        "    yield cell_radius*np.random.rand()\n",
        "  return"
      ],
      "execution_count": 34,
      "outputs": []
    },
    {
      "cell_type": "code",
      "metadata": {
        "id": "I5oQHFqA5xBm"
      },
      "source": [
        "def generate_load(user_density, cell_radius):\n",
        "  total_load = 0\n",
        "  load = []\n",
        "  traffic_types = [web_data_rates, ftp_data_rates, vid_data_rates_metis]\n",
        "  num_users = 0\n",
        "  for d in sample_users(user_density, cell_radius):\n",
        "    # Sample a traffic model\n",
        "    traffic_type = traffic_types[np.random.randint(0,3)]\n",
        "    ue_demand = traffic_type[np.random.randint(0, len(traffic_type))]\n",
        "    max_data_rate = get_ue_data_rate(d) # This is in Mbps so must be converted\n",
        "    this_load = min(ue_demand*8, max_data_rate*2**20)\n",
        "    total_load += this_load\n",
        "    num_users += 1\n",
        "  return total_load/(2**20), num_users"
      ],
      "execution_count": 64,
      "outputs": []
    },
    {
      "cell_type": "code",
      "metadata": {
        "id": "SZvBzOQSAM_Z"
      },
      "source": [
        "# Dense urban cell load distribution\n",
        "cell_load_dense = [generate_load(config['ue_density_high'],config['isd_high']) for i in range(1000)]\n",
        "# Urban cell load distribution\n",
        "cell_load_urban = [generate_load(config['ue_density_med'],config['isd_urban']) for i in range(1000)]\n",
        "# Rural cell load distribution\n",
        "cell_load_rural = [generate_load(config['ue_density_low'],config['isd_rural']) for i in range(1000)]"
      ],
      "execution_count": 65,
      "outputs": []
    },
    {
      "cell_type": "code",
      "metadata": {
        "id": "35ylWevGRgN5"
      },
      "source": [
        "def ecdf(data, label):\n",
        "  \"\"\"\n",
        "  Computes and plots the ECDF of the data.\n",
        "  Returns:\n",
        "  the 95th percentile of the data\n",
        "  the median of the data\n",
        "  the 5th percentile of the data\n",
        "  \"\"\"\n",
        "  data_cpy = list(data)\n",
        "  data_cpy.sort()\n",
        "  prob = np.arange(len(data))/len(data)\n",
        "  plt.plot(data_cpy, prob, label=label)\n",
        "  p95 = np.argmin(np.abs(prob - 0.95))\n",
        "  p50 = np.argmin(np.abs(prob - 0.5))\n",
        "  p05 = np.argmin(np.abs(prob - 0.05))\n",
        "  return data_cpy[p95], data_cpy[p50], data_cpy[p05]"
      ],
      "execution_count": 70,
      "outputs": []
    },
    {
      "cell_type": "code",
      "metadata": {
        "colab": {
          "base_uri": "https://localhost:8080/",
          "height": 296
        },
        "id": "6L3sKIuYlV5T",
        "outputId": "3315c1c1-5e04-4448-afd4-95033c2443e3"
      },
      "source": [
        "dense_stats = ecdf(list(zip(*cell_load_dense))[0], \"dense\")\n",
        "urban_stats = ecdf(list(zip(*cell_load_urban))[0], \"sub-urban\")\n",
        "#ecdf(list(zip(*cell_load_rural))[0], \"rural\")\n",
        "plt.legend()\n",
        "plt.xlabel('Cell load (Mbps)')\n",
        "plt.ylabel('ECDF')"
      ],
      "execution_count": 71,
      "outputs": [
        {
          "output_type": "execute_result",
          "data": {
            "text/plain": [
              "Text(0, 0.5, 'ECDF')"
            ]
          },
          "metadata": {
            "tags": []
          },
          "execution_count": 71
        },
        {
          "output_type": "display_data",
          "data": {
            "image/png": "[encoded data removed]",
            "text/plain": [
              "<Figure size 432x288 with 1 Axes>"
            ]
          },
          "metadata": {
            "tags": [],
            "needs_background": "light"
          }
        }
      ]
    },
    {
      "cell_type": "code",
      "metadata": {
        "colab": {
          "base_uri": "https://localhost:8080/"
        },
        "id": "O8T4g91wI0Pk",
        "outputId": "6829f2b8-9675-435e-bee9-11f50c43bee5"
      },
      "source": [
        "dense_stats"
      ],
      "execution_count": 72,
      "outputs": [
        {
          "output_type": "execute_result",
          "data": {
            "text/plain": [
              "(5321.495380504615, 4088.677811952472, 3053.5304829401484)"
            ]
          },
          "metadata": {
            "tags": []
          },
          "execution_count": 72
        }
      ]
    },
    {
      "cell_type": "code",
      "metadata": {
        "colab": {
          "base_uri": "https://localhost:8080/"
        },
        "id": "n3uRSXyZKbLw",
        "outputId": "4f14fd2c-1cfd-4193-c2c4-b71d95823de9"
      },
      "source": [
        "urban_stats"
      ],
      "execution_count": 73,
      "outputs": [
        {
          "output_type": "execute_result",
          "data": {
            "text/plain": [
              "(5348.849916494804, 4097.392964442439, 3057.397988034376)"
            ]
          },
          "metadata": {
            "tags": []
          },
          "execution_count": 73
        }
      ]
    },
    {
      "cell_type": "markdown",
      "metadata": {
        "id": "wlhdGf4-LV6x"
      },
      "source": [
        "According to 5GXhaul we will use the 95th percentile cell load when calculating transport capacity."
      ]
    },
    {
      "cell_type": "markdown",
      "metadata": {
        "id": "kZH1Zu_QL16M"
      },
      "source": [
        "## Statistical multiplexing while aggregating multiple cells\n",
        "\n",
        "According to 5GXhaul D2.1 and Bartelt et al \"Fronthau lfor a Flexible Centralization in Cloud Radio Access Networks\", Wiley&Sons 2017.\n",
        "\n",
        "Provisioning of transport capacity that aggregates K number of cells can be done as follows, while accounting for 95% percent of the cell load:\n",
        "1. provision for $KQ(95th,1)$ so for K times the 95-th percentile of the cell load, which would assume that all cells will have 95th percentile load at the same time\n",
        "2. provision for $Q(95th,K)$, assuming that the loads in different cells are independent of each other.\n",
        "\n",
        "Considering this, the transport capacity for aggregating K cells will be ``max(peak, k x busy_hour)`` (according to NGMN LTE dimensioning."
      ]
    },
    {
      "cell_type": "code",
      "metadata": {
        "id": "Q0rAylEsOI7a"
      },
      "source": [
        "# Will use MC simulations to sample the 95-th percentile load of K cells\n",
        "# assuming independent loads\n",
        "def aggregate_mux(k, cell_load):\n",
        "  \"\"\"\n",
        "  Parameters\n",
        "  k   --  number of cells to aggregate\n",
        "  cell_load   -- distribution of cell load\n",
        "  Returns\n",
        "  Capacity required to maintain 95-th percentile of aggregatd load\n",
        "  \"\"\"\n",
        "  total_load = []\n",
        "  for s in range(int(1e4)):\n",
        "    agg_load = sum(cell_load[np.random.randint(0,len(cell_load))]\n",
        "                   for i in range(k))\n",
        "    total_load.append(agg_load)\n",
        "  total_load.sort()\n",
        "  prob = np.arange(len(total_load))/len(total_load)\n",
        "  p95 = np.argmin(np.abs(prob - 0.95))\n",
        "  return total_load[p95]      "
      ],
      "execution_count": 76,
      "outputs": []
    },
    {
      "cell_type": "code",
      "metadata": {
        "colab": {
          "base_uri": "https://localhost:8080/"
        },
        "id": "SNoSt5RnP9c4",
        "outputId": "606becb0-640b-4c61-9edc-2c42d35f3986"
      },
      "source": [
        "aggregate_mux(10, list(zip(*cell_load_dense))[0])"
      ],
      "execution_count": 81,
      "outputs": [
        {
          "output_type": "execute_result",
          "data": {
            "text/plain": [
              "45078.80842757802"
            ]
          },
          "metadata": {
            "tags": []
          },
          "execution_count": 81
        }
      ]
    },
    {
      "cell_type": "code",
      "metadata": {
        "id": "x0rXZtB8QOb3"
      },
      "source": [
        "K = range(1,1000,10)\n",
        "req_transp = [max(6000,aggregate_mux(k, list(zip(*cell_load_dense))[0])) for k in K]"
      ],
      "execution_count": 83,
      "outputs": []
    },
    {
      "cell_type": "code",
      "metadata": {
        "colab": {
          "base_uri": "https://localhost:8080/",
          "height": 313
        },
        "id": "pZ_5c1ZRQuu9",
        "outputId": "bbcd1183-7540-45c8-f7c1-56f8adb9620d"
      },
      "source": [
        "plt.plot(K, req_transp)\n",
        "plt.xlabel('Aggregated cells')\n",
        "plt.ylabel('Required capacity for 95-th percentile load (Mbps)')"
      ],
      "execution_count": 87,
      "outputs": [
        {
          "output_type": "execute_result",
          "data": {
            "text/plain": [
              "Text(0, 0.5, 'Required capacity for 95-th percentile load (Mbps)')"
            ]
          },
          "metadata": {
            "tags": []
          },
          "execution_count": 87
        },
        {
          "output_type": "display_data",
          "data": {
            "image/png": "[encoded data removed]",
            "text/plain": [
              "<Figure size 432x288 with 1 Axes>"
            ]
          },
          "metadata": {
            "tags": [],
            "needs_background": "light"
          }
        }
      ]
    },
    {
      "cell_type": "markdown",
      "metadata": {
        "id": "XKi8dYpJRTug"
      },
      "source": [
        "## Transport network architecture\n",
        "\n",
        "Based on the 1914.1 Xhaul dimensioning challenges by Faiz Alam from 2018:\n",
        "* 40 RUs aggregated by a concentrator\n",
        "  * we need 40 10GE links to the concentrator\n",
        "  * concentrator will perform statistical multiplexing and produce an output rate of Q(95,K=40) = \n",
        "* each concentrator connects to an access FCP, with 20 access FCPs per access ring, therefore the access ring needs $20$\n",
        "* for every 4 access FCPs we have an access PoP that aggregates\n",
        "* 5 access PoPs are aggregated by an edge FCP"
      ]
    }
  ]
}